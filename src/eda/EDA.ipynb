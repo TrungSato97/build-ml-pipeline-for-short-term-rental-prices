{
 "cells": [
  {
   "cell_type": "markdown",
   "id": "d02abdbf-c949-43df-a8d9-fce5d4e88d64",
   "metadata": {},
   "source": [
    "# Import Library"
   ]
  },
  {
   "cell_type": "code",
   "execution_count": 8,
   "id": "d6459fde-14a8-4839-aedd-6c1014747061",
   "metadata": {},
   "outputs": [
    {
     "name": "stdout",
     "output_type": "stream",
     "text": [
      "Files removed: 16\n"
     ]
    }
   ],
   "source": [
    "# !pip cache purge\n",
    "# !pip install pandas-profiling pydantic-settings\n"
   ]
  },
  {
   "cell_type": "code",
   "execution_count": 9,
   "id": "269a1e40-cc68-45b9-ac54-6ef39fc2a4cd",
   "metadata": {},
   "outputs": [
    {
     "name": "stdout",
     "output_type": "stream",
     "text": [
      "Requirement already satisfied: pydantic==2.7.0 in c:\\users\\truon\\miniconda3\\envs\\mlflow-e4fcefd643ef1ee947cfeff48521954cf08a16aa\\lib\\site-packages (2.7.0)\n",
      "Requirement already satisfied: annotated-types>=0.4.0 in c:\\users\\truon\\miniconda3\\envs\\mlflow-e4fcefd643ef1ee947cfeff48521954cf08a16aa\\lib\\site-packages (from pydantic==2.7.0) (0.7.0)\n",
      "Requirement already satisfied: pydantic-core==2.18.1 in c:\\users\\truon\\miniconda3\\envs\\mlflow-e4fcefd643ef1ee947cfeff48521954cf08a16aa\\lib\\site-packages (from pydantic==2.7.0) (2.18.1)\n",
      "Requirement already satisfied: typing-extensions>=4.6.1 in c:\\users\\truon\\miniconda3\\envs\\mlflow-e4fcefd643ef1ee947cfeff48521954cf08a16aa\\lib\\site-packages (from pydantic==2.7.0) (4.12.2)\n"
     ]
    }
   ],
   "source": [
    "# !pip install pandas_profiling\n",
    "# !pip install -U pandas-profiling\n",
    "# !pip install pydantic-settings\n",
    "# !pip install pydantic==2.7.0\n",
    "# !pip install pandas-profiling\n",
    "# !pip install --upgrade numba\n",
    "# !pip install matplotlib==3.1.3"
   ]
  },
  {
   "cell_type": "code",
   "execution_count": 4,
   "id": "45166a9b-be6c-4646-8ce4-2af3ea294a0c",
   "metadata": {},
   "outputs": [],
   "source": [
    "# import warnings\n",
    "# import matplotlib\n",
    "# warnings.filterwarnings(\"ignore\", category=DeprecationWarning)  # Sử dụng DeprecationWarning để thay thế\n",
    "# warnings.filterwarnings(\"ignore\", category=matplotlib.MatplotlibDeprecationWarning)\n",
    "\n"
   ]
  },
  {
   "cell_type": "code",
   "execution_count": 10,
   "id": "82c4aaf9-189d-4a98-ae31-5f0d82d24568",
   "metadata": {},
   "outputs": [
    {
     "ename": "PydanticImportError",
     "evalue": "`BaseSettings` has been moved to the `pydantic-settings` package. See https://docs.pydantic.dev/2.9/migration/#basesettings-has-moved-to-pydantic-settings for more details.\n\nFor further information visit https://errors.pydantic.dev/2.9/u/import-error",
     "output_type": "error",
     "traceback": [
      "\u001b[1;31m---------------------------------------------------------------------------\u001b[0m",
      "\u001b[1;31mPydanticImportError\u001b[0m                       Traceback (most recent call last)",
      "Cell \u001b[1;32mIn[10], line 3\u001b[0m\n\u001b[0;32m      1\u001b[0m \u001b[38;5;28;01mimport\u001b[39;00m \u001b[38;5;21;01mwandb\u001b[39;00m\n\u001b[0;32m      2\u001b[0m \u001b[38;5;28;01mimport\u001b[39;00m \u001b[38;5;21;01mpandas\u001b[39;00m \u001b[38;5;28;01mas\u001b[39;00m \u001b[38;5;21;01mpd\u001b[39;00m\n\u001b[1;32m----> 3\u001b[0m \u001b[38;5;28;01mimport\u001b[39;00m \u001b[38;5;21;01mpandas_profiling\u001b[39;00m\n",
      "File \u001b[1;32m~\\miniconda3\\envs\\mlflow-e4fcefd643ef1ee947cfeff48521954cf08a16aa\\lib\\site-packages\\pandas_profiling\\__init__.py:8\u001b[0m\n\u001b[0;32m      1\u001b[0m \u001b[38;5;124;03m\"\"\"Main module of pandas-profiling.\u001b[39;00m\n\u001b[0;32m      2\u001b[0m \n\u001b[0;32m      3\u001b[0m \u001b[38;5;124;03m.. include:: ../../README.md\u001b[39;00m\n\u001b[0;32m      4\u001b[0m \u001b[38;5;124;03m\"\"\"\u001b[39;00m\n\u001b[0;32m      6\u001b[0m \u001b[38;5;28;01mfrom\u001b[39;00m \u001b[38;5;21;01mwarnings\u001b[39;00m \u001b[38;5;28;01mimport\u001b[39;00m warn\n\u001b[1;32m----> 8\u001b[0m \u001b[38;5;28;01mfrom\u001b[39;00m \u001b[38;5;21;01mpandas_profiling\u001b[39;00m\u001b[38;5;21;01m.\u001b[39;00m\u001b[38;5;21;01mcompare_reports\u001b[39;00m \u001b[38;5;28;01mimport\u001b[39;00m compare\n\u001b[0;32m      9\u001b[0m \u001b[38;5;28;01mfrom\u001b[39;00m \u001b[38;5;21;01mpandas_profiling\u001b[39;00m\u001b[38;5;21;01m.\u001b[39;00m\u001b[38;5;21;01mcontroller\u001b[39;00m \u001b[38;5;28;01mimport\u001b[39;00m pandas_decorator\n\u001b[0;32m     10\u001b[0m \u001b[38;5;28;01mfrom\u001b[39;00m \u001b[38;5;21;01mpandas_profiling\u001b[39;00m\u001b[38;5;21;01m.\u001b[39;00m\u001b[38;5;21;01mprofile_report\u001b[39;00m \u001b[38;5;28;01mimport\u001b[39;00m ProfileReport\n",
      "File \u001b[1;32m~\\miniconda3\\envs\\mlflow-e4fcefd643ef1ee947cfeff48521954cf08a16aa\\lib\\site-packages\\pandas_profiling\\compare_reports.py:6\u001b[0m\n\u001b[0;32m      2\u001b[0m \u001b[38;5;28;01mfrom\u001b[39;00m \u001b[38;5;21;01mtyping\u001b[39;00m \u001b[38;5;28;01mimport\u001b[39;00m Any, List, Optional, Tuple, Union\n\u001b[0;32m      4\u001b[0m \u001b[38;5;28;01mimport\u001b[39;00m \u001b[38;5;21;01mpandas\u001b[39;00m \u001b[38;5;28;01mas\u001b[39;00m \u001b[38;5;21;01mpd\u001b[39;00m\n\u001b[1;32m----> 6\u001b[0m \u001b[38;5;28;01mfrom\u001b[39;00m \u001b[38;5;21;01mpandas_profiling\u001b[39;00m\u001b[38;5;21;01m.\u001b[39;00m\u001b[38;5;21;01mconfig\u001b[39;00m \u001b[38;5;28;01mimport\u001b[39;00m Correlation, Settings\n\u001b[0;32m      7\u001b[0m \u001b[38;5;28;01mfrom\u001b[39;00m \u001b[38;5;21;01mpandas_profiling\u001b[39;00m\u001b[38;5;21;01m.\u001b[39;00m\u001b[38;5;21;01mmodel\u001b[39;00m\u001b[38;5;21;01m.\u001b[39;00m\u001b[38;5;21;01malerts\u001b[39;00m \u001b[38;5;28;01mimport\u001b[39;00m Alert\n\u001b[0;32m      8\u001b[0m \u001b[38;5;28;01mfrom\u001b[39;00m \u001b[38;5;21;01mpandas_profiling\u001b[39;00m\u001b[38;5;21;01m.\u001b[39;00m\u001b[38;5;21;01mprofile_report\u001b[39;00m \u001b[38;5;28;01mimport\u001b[39;00m ProfileReport\n",
      "File \u001b[1;32m~\\miniconda3\\envs\\mlflow-e4fcefd643ef1ee947cfeff48521954cf08a16aa\\lib\\site-packages\\pandas_profiling\\config.py:7\u001b[0m\n\u001b[0;32m      4\u001b[0m \u001b[38;5;28;01mfrom\u001b[39;00m \u001b[38;5;21;01mtyping\u001b[39;00m \u001b[38;5;28;01mimport\u001b[39;00m Any, Dict, List, Optional, Tuple, Union\n\u001b[0;32m      6\u001b[0m \u001b[38;5;28;01mimport\u001b[39;00m \u001b[38;5;21;01myaml\u001b[39;00m\n\u001b[1;32m----> 7\u001b[0m \u001b[38;5;28;01mfrom\u001b[39;00m \u001b[38;5;21;01mpydantic\u001b[39;00m \u001b[38;5;28;01mimport\u001b[39;00m BaseModel, BaseSettings, Field, PrivateAttr\n\u001b[0;32m     10\u001b[0m \u001b[38;5;28;01mdef\u001b[39;00m \u001b[38;5;21m_merge_dictionaries\u001b[39m(dict1: \u001b[38;5;28mdict\u001b[39m, dict2: \u001b[38;5;28mdict\u001b[39m) \u001b[38;5;241m-\u001b[39m\u001b[38;5;241m>\u001b[39m \u001b[38;5;28mdict\u001b[39m:\n\u001b[0;32m     11\u001b[0m \u001b[38;5;250m    \u001b[39m\u001b[38;5;124;03m\"\"\"\u001b[39;00m\n\u001b[0;32m     12\u001b[0m \u001b[38;5;124;03m    Recursive merge dictionaries.\u001b[39;00m\n\u001b[0;32m     13\u001b[0m \n\u001b[1;32m   (...)\u001b[0m\n\u001b[0;32m     16\u001b[0m \u001b[38;5;124;03m    :return: Merged dictionary\u001b[39;00m\n\u001b[0;32m     17\u001b[0m \u001b[38;5;124;03m    \"\"\"\u001b[39;00m\n",
      "File \u001b[1;32m~\\miniconda3\\envs\\mlflow-e4fcefd643ef1ee947cfeff48521954cf08a16aa\\lib\\site-packages\\pydantic\\__init__.py:402\u001b[0m, in \u001b[0;36m__getattr__\u001b[1;34m(attr_name)\u001b[0m\n\u001b[0;32m    400\u001b[0m dynamic_attr \u001b[38;5;241m=\u001b[39m _dynamic_imports\u001b[38;5;241m.\u001b[39mget(attr_name)\n\u001b[0;32m    401\u001b[0m \u001b[38;5;28;01mif\u001b[39;00m dynamic_attr \u001b[38;5;129;01mis\u001b[39;00m \u001b[38;5;28;01mNone\u001b[39;00m:\n\u001b[1;32m--> 402\u001b[0m     \u001b[38;5;28;01mreturn\u001b[39;00m \u001b[43m_getattr_migration\u001b[49m\u001b[43m(\u001b[49m\u001b[43mattr_name\u001b[49m\u001b[43m)\u001b[49m\n\u001b[0;32m    404\u001b[0m package, module_name \u001b[38;5;241m=\u001b[39m dynamic_attr\n\u001b[0;32m    406\u001b[0m \u001b[38;5;28;01mif\u001b[39;00m module_name \u001b[38;5;241m==\u001b[39m \u001b[38;5;124m'\u001b[39m\u001b[38;5;124m__module__\u001b[39m\u001b[38;5;124m'\u001b[39m:\n",
      "File \u001b[1;32m~\\miniconda3\\envs\\mlflow-e4fcefd643ef1ee947cfeff48521954cf08a16aa\\lib\\site-packages\\pydantic\\_migration.py:296\u001b[0m, in \u001b[0;36mgetattr_migration.<locals>.wrapper\u001b[1;34m(name)\u001b[0m\n\u001b[0;32m    294\u001b[0m     \u001b[38;5;28;01mreturn\u001b[39;00m import_string(REDIRECT_TO_V1[import_path])\n\u001b[0;32m    295\u001b[0m \u001b[38;5;28;01mif\u001b[39;00m import_path \u001b[38;5;241m==\u001b[39m \u001b[38;5;124m'\u001b[39m\u001b[38;5;124mpydantic:BaseSettings\u001b[39m\u001b[38;5;124m'\u001b[39m:\n\u001b[1;32m--> 296\u001b[0m     \u001b[38;5;28;01mraise\u001b[39;00m PydanticImportError(\n\u001b[0;32m    297\u001b[0m         \u001b[38;5;124m'\u001b[39m\u001b[38;5;124m`BaseSettings` has been moved to the `pydantic-settings` package. \u001b[39m\u001b[38;5;124m'\u001b[39m\n\u001b[0;32m    298\u001b[0m         \u001b[38;5;124mf\u001b[39m\u001b[38;5;124m'\u001b[39m\u001b[38;5;124mSee https://docs.pydantic.dev/\u001b[39m\u001b[38;5;132;01m{\u001b[39;00mversion_short()\u001b[38;5;132;01m}\u001b[39;00m\u001b[38;5;124m/migration/#basesettings-has-moved-to-pydantic-settings \u001b[39m\u001b[38;5;124m'\u001b[39m\n\u001b[0;32m    299\u001b[0m         \u001b[38;5;124m'\u001b[39m\u001b[38;5;124mfor more details.\u001b[39m\u001b[38;5;124m'\u001b[39m\n\u001b[0;32m    300\u001b[0m     )\n\u001b[0;32m    301\u001b[0m \u001b[38;5;28;01mif\u001b[39;00m import_path \u001b[38;5;129;01min\u001b[39;00m REMOVED_IN_V2:\n\u001b[0;32m    302\u001b[0m     \u001b[38;5;28;01mraise\u001b[39;00m PydanticImportError(\u001b[38;5;124mf\u001b[39m\u001b[38;5;124m'\u001b[39m\u001b[38;5;124m`\u001b[39m\u001b[38;5;132;01m{\u001b[39;00mimport_path\u001b[38;5;132;01m}\u001b[39;00m\u001b[38;5;124m` has been removed in V2.\u001b[39m\u001b[38;5;124m'\u001b[39m)\n",
      "\u001b[1;31mPydanticImportError\u001b[0m: `BaseSettings` has been moved to the `pydantic-settings` package. See https://docs.pydantic.dev/2.9/migration/#basesettings-has-moved-to-pydantic-settings for more details.\n\nFor further information visit https://errors.pydantic.dev/2.9/u/import-error"
     ]
    }
   ],
   "source": [
    "import wandb\n",
    "import pandas as pd\n",
    "import pandas_profiling"
   ]
  },
  {
   "cell_type": "markdown",
   "id": "3be54baa-e8c8-451c-b3cf-b7f79b01b486",
   "metadata": {},
   "source": [
    "# Import Data"
   ]
  },
  {
   "cell_type": "markdown",
   "id": "35cca0ea-f13d-43fc-a49e-381abc55f9dd",
   "metadata": {},
   "source": [
    "## Init artifact new"
   ]
  },
  {
   "cell_type": "code",
   "execution_count": null,
   "id": "534ebef2-2b7d-4383-98e4-a5712b039bd4",
   "metadata": {},
   "outputs": [],
   "source": [
    "# import wandb\n",
    "\n",
    "# run = wandb.init(project=\"nyc_airbnb\", group=\"eda\", save_code=True)\n",
    "# artifact = wandb.Artifact('sample.csv', type='dataset')\n",
    "# artifact.add_file('sample.csv')\n",
    "# run.log_artifact(artifact)\n",
    "# run.finish()\n"
   ]
  },
  {
   "cell_type": "code",
   "execution_count": null,
   "id": "5e0a625f-1088-424f-b877-fabfd77ca58b",
   "metadata": {},
   "outputs": [],
   "source": [
    "# run = wandb.init(project=\"nyc_airbnb\", group=\"eda\", save_code=True)\n",
    "# local_path = wandb.use_artifact(\"trungsato/nyc_airbnb/sample.csv:latest\").file()\n",
    "# df = pd.read_csv(local_path)"
   ]
  },
  {
   "cell_type": "markdown",
   "id": "66b7d0ca-bd45-4f8f-ae45-b036dbc3732c",
   "metadata": {},
   "source": [
    "## if artifact ready"
   ]
  },
  {
   "cell_type": "code",
   "execution_count": null,
   "id": "5280a16a-49b1-4158-be8c-fb8b0a2c8a8f",
   "metadata": {},
   "outputs": [],
   "source": [
    "run = wandb.init(project=\"nyc_airbnb\", group=\"eda\", save_code=True)\n",
    "local_path = wandb.use_artifact(\"sample.csv:latest\").file()\n",
    "df = pd.read_csv(local_path)"
   ]
  },
  {
   "cell_type": "markdown",
   "id": "83c67b27-9f31-4f98-a3c8-dbd66c28e9b6",
   "metadata": {},
   "source": [
    "# Infomation dataframe"
   ]
  },
  {
   "cell_type": "code",
   "execution_count": null,
   "id": "d2994528-0270-4fb8-a791-2e19d20dd9be",
   "metadata": {},
   "outputs": [],
   "source": [
    "df.head()"
   ]
  },
  {
   "cell_type": "code",
   "execution_count": null,
   "id": "ad72e4d0-aca4-4466-9eef-575b5a78ccc6",
   "metadata": {},
   "outputs": [],
   "source": [
    "df.info"
   ]
  },
  {
   "cell_type": "code",
   "execution_count": null,
   "id": "1dc37042-eca5-4bb4-957c-8ac7bc385cf3",
   "metadata": {},
   "outputs": [],
   "source": [
    "df.shape"
   ]
  },
  {
   "cell_type": "code",
   "execution_count": null,
   "id": "72e748f1-8440-4d60-a8cd-5d6c99ab6aec",
   "metadata": {},
   "outputs": [],
   "source": [
    "# check columns data types\n",
    "df.dtypes"
   ]
  },
  {
   "cell_type": "code",
   "execution_count": null,
   "id": "b65189d0-3be7-40c1-83e3-13c1e5fb2a71",
   "metadata": {},
   "outputs": [],
   "source": [
    "df_nyc['price'].value_counts().head(20)"
   ]
  },
  {
   "cell_type": "code",
   "execution_count": null,
   "id": "f43bbb65-28db-4a1f-a6e5-dd143fdb4560",
   "metadata": {},
   "outputs": [],
   "source": []
  },
  {
   "cell_type": "markdown",
   "id": "bdaccede-3d85-479c-967a-be7ac985487d",
   "metadata": {},
   "source": [
    "# EDA data"
   ]
  },
  {
   "cell_type": "code",
   "execution_count": null,
   "id": "ee2651ec-5544-4824-8a32-e5a78df7fa0d",
   "metadata": {},
   "outputs": [],
   "source": [
    "# !pip install --upgrade matplotlib pandas-profiling\n"
   ]
  },
  {
   "cell_type": "code",
   "execution_count": null,
   "id": "26fed019-8c2a-43cd-9263-c89f43910de6",
   "metadata": {},
   "outputs": [],
   "source": [
    "import pandas_profiling\n",
    "profile = pandas_profiling.ProfileReport(df, config_file='')\n",
    "profile.to_widgets()"
   ]
  },
  {
   "cell_type": "code",
   "execution_count": null,
   "id": "687f0529-c371-48b2-9811-5552f9bf2cb4",
   "metadata": {},
   "outputs": [],
   "source": [
    "profile"
   ]
  },
  {
   "cell_type": "code",
   "execution_count": null,
   "id": "618441e9-7b3d-4df3-b851-aa3e2452f8c8",
   "metadata": {},
   "outputs": [],
   "source": [
    "# Drop outliers\n",
    "min_price = 10\n",
    "max_price = 350\n",
    "idx = df['price'].between(min_price, max_price)\n",
    "df = df[idx].copy()\n",
    "# Convert last_review to datetime\n",
    "df['last_review'] = pd.to_datetime(df['last_review'])"
   ]
  },
  {
   "cell_type": "code",
   "execution_count": null,
   "id": "ea2c24ec-f542-4f14-b0b3-9e2089395455",
   "metadata": {},
   "outputs": [],
   "source": [
    "df.info()"
   ]
  },
  {
   "cell_type": "code",
   "execution_count": null,
   "id": "555bcad4-1dd4-4806-8a85-c06737c7144f",
   "metadata": {},
   "outputs": [],
   "source": [
    "run.finish()"
   ]
  }
 ],
 "metadata": {
  "kernelspec": {
   "display_name": "Python 3 (ipykernel)",
   "language": "python",
   "name": "python3"
  },
  "language_info": {
   "codemirror_mode": {
    "name": "ipython",
    "version": 3
   },
   "file_extension": ".py",
   "mimetype": "text/x-python",
   "name": "python",
   "nbconvert_exporter": "python",
   "pygments_lexer": "ipython3",
   "version": "3.10.15"
  }
 },
 "nbformat": 4,
 "nbformat_minor": 5
}
